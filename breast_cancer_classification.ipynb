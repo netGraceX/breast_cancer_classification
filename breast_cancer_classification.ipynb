{
 "cells": [
  {
   "cell_type": "markdown",
   "metadata": {},
   "source": [
    "# Breast Cancer Classification"
   ]
  },
  {
   "cell_type": "markdown",
   "metadata": {},
   "source": [
    "Dataset: png images\n",
    "\n",
    "Source: https://scholar.cu.edu.eg/?q=afahmy/pages/dataset - Al-Dhabyani W, Gomaa M, Khaled H, Fahmy A. Dataset of breast ultrasound images. Data in Brief. \n",
    "\n",
    "Goal: classify with ML techniques malignant and benign tumors."
   ]
  },
  {
   "cell_type": "code",
   "execution_count": 2,
   "metadata": {},
   "outputs": [],
   "source": [
    "import pandas as pd\n",
    "import cv2 \n",
    "import warnings\n",
    "from PIL import Image, ImageOps\n",
    "import os, sys\n",
    "import numpy as np\n",
    "import matplotlib.pyplot as plt\n",
    "import matplotlib.image as mpimg\n",
    "import matplotlib.patches as mpatches\n",
    "from sklearn.model_selection import train_test_split\n",
    "from sklearn import linear_model\n",
    "from sklearn.multiclass import OneVsRestClassifier\n",
    "from sklearn.tree import DecisionTreeClassifier\n",
    "from sklearn.neural_network import MLPClassifier\n",
    "from sklearn.multiclass import OneVsRestClassifier\n",
    "from sklearn import svm\n",
    "from sklearn.naive_bayes import MultinomialNB \n",
    "from sklearn.metrics import confusion_matrix\n",
    "from sklearn.model_selection import learning_curve\n",
    "from sklearn.decomposition import PCA\n",
    "from sklearn import metrics"
   ]
  },
  {
   "cell_type": "markdown",
   "metadata": {},
   "source": [
    "## Data Cleaning"
   ]
  },
  {
   "cell_type": "code",
   "execution_count": null,
   "metadata": {},
   "outputs": [],
   "source": [
    "def folder_list():\n",
    "    folders = []\n",
    "    benign = '../Dataset_BUSI_with_GT_original/benign/'\n",
    "    malignant  = '../Dataset_BUSI_with_GT_original/malignant/'\n",
    "    normal = '../Dataset_BUSI_with_GT_original/normal/'\n",
    "    folders.append(benign)\n",
    "    folders.append(malignant)\n",
    "    folders.append(normal)\n",
    "return folders"
   ]
  },
  {
   "cell_type": "code",
   "execution_count": null,
   "metadata": {},
   "outputs": [],
   "source": [
    "#Function to bring images to the same size and gray scale\n",
    "folders = folder_list()\n",
    "image_size = 310\n",
    "\n",
    "def resize():\n",
    "    for folder in folders:\n",
    "        for item in os.listdir(folder):\n",
    "            if os.path.isfile(folder+item):\n",
    "                im = Image.open(folder+item)\n",
    "                gray_img = ImageOps.grayscale(im)\n",
    "                f, e = os.path.splitext(folder+item)\n",
    "                imResize = gray_img.resize((image_size, image_size), Image.ANTIALIAS)\n",
    "                os.remove(folder+item)\n",
    "                imResize.save(f + ' resized.png', 'PNG', quality=90)\n",
    "resize()"
   ]
  },
  {
   "cell_type": "code",
   "execution_count": 3,
   "metadata": {},
   "outputs": [],
   "source": [
    "#Images dictionary --> {key: image name, value: image}\n",
    "dic = {}\n",
    "folders = folder_list()\n",
    "\n",
    "for folder in folders:\n",
    "    for filename in os.listdir(folder):\n",
    "        try:\n",
    "            img = mpimg.imread(os.path.join(folder, filename))            \n",
    "            if img is not None:\n",
    "                dic[filename] = img            \n",
    "        except:\n",
    "            print('Cant import ' + filename)\n",
    "#Check number of images uploaded\n",
    "print('Images Number: ' + str(len(dic.values())))"
   ]
  },
  {
   "cell_type": "markdown",
   "metadata": {},
   "source": [
    "## Data exploration"
   ]
  },
  {
   "cell_type": "code",
   "execution_count": 5,
   "metadata": {},
   "outputs": [],
   "source": [
    "#Pandas DataFrame with two columns: images and corresponding classification value\n",
    "# 0 = no cancer, \n",
    "# 1 = benign cancer, \n",
    "# 2 = malignant cancer\n",
    "\n",
    "df = pd.DataFrame()\n",
    "images_temp = []\n",
    "values_temp = []\n",
    "\n",
    "for key in dic.keys():\n",
    "    if 'normal' in key:\n",
    "        images_temp.append(dic[key])\n",
    "        values_temp.append(0)\n",
    "    elif 'benign' in key:\n",
    "        images_temp.append(dic[key])\n",
    "        values_temp.append(1)\n",
    "    else: \n",
    "        images_temp.append(dic[key])\n",
    "        values_temp.append(2)\n",
    "                                 \n",
    "values = np.asarray(values_temp)\n",
    "\n",
    "df['Image'] = images_temp\n",
    "df['Value'] = values"
   ]
  },
  {
   "cell_type": "code",
   "execution_count": 6,
   "metadata": {},
   "outputs": [
    {
     "data": {
      "text/plain": [
       "(798, 2)"
      ]
     },
     "execution_count": 6,
     "metadata": {},
     "output_type": "execute_result"
    }
   ],
   "source": [
    "df.shape"
   ]
  },
  {
   "cell_type": "code",
   "execution_count": 7,
   "metadata": {},
   "outputs": [
    {
     "data": {
      "text/plain": [
       "Image    0\n",
       "Value    0\n",
       "dtype: int64"
      ]
     },
     "execution_count": 7,
     "metadata": {},
     "output_type": "execute_result"
    }
   ],
   "source": [
    "df.isnull().sum()"
   ]
  },
  {
   "cell_type": "code",
   "execution_count": 9,
   "metadata": {},
   "outputs": [
    {
     "data": {
      "text/html": [
       "<div>\n",
       "<style scoped>\n",
       "    .dataframe tbody tr th:only-of-type {\n",
       "        vertical-align: middle;\n",
       "    }\n",
       "\n",
       "    .dataframe tbody tr th {\n",
       "        vertical-align: top;\n",
       "    }\n",
       "\n",
       "    .dataframe thead th {\n",
       "        text-align: right;\n",
       "    }\n",
       "</style>\n",
       "<table border=\"1\" class=\"dataframe\">\n",
       "  <thead>\n",
       "    <tr style=\"text-align: right;\">\n",
       "      <th></th>\n",
       "      <th>Image</th>\n",
       "      <th>Value</th>\n",
       "    </tr>\n",
       "  </thead>\n",
       "  <tbody>\n",
       "    <tr>\n",
       "      <td>0</td>\n",
       "      <td>[[0.0, 0.0, 0.0, 0.0, 0.0, 0.0, 0.0, 0.0, 0.0,...</td>\n",
       "      <td>1</td>\n",
       "    </tr>\n",
       "    <tr>\n",
       "      <td>1</td>\n",
       "      <td>[[0.0, 0.0, 0.0, 0.0, 0.0, 0.0, 0.0, 0.0, 0.0,...</td>\n",
       "      <td>1</td>\n",
       "    </tr>\n",
       "    <tr>\n",
       "      <td>2</td>\n",
       "      <td>[[0.0, 0.0, 0.0, 0.0, 0.0, 0.0, 0.0, 0.0, 0.0,...</td>\n",
       "      <td>1</td>\n",
       "    </tr>\n",
       "    <tr>\n",
       "      <td>3</td>\n",
       "      <td>[[0.0, 0.0, 0.0, 0.0, 0.0, 0.0, 0.0, 0.0, 0.0,...</td>\n",
       "      <td>1</td>\n",
       "    </tr>\n",
       "    <tr>\n",
       "      <td>4</td>\n",
       "      <td>[[0.0, 0.0, 0.0, 0.0, 0.0, 0.0, 0.0, 0.0, 0.0,...</td>\n",
       "      <td>1</td>\n",
       "    </tr>\n",
       "  </tbody>\n",
       "</table>\n",
       "</div>"
      ],
      "text/plain": [
       "                                               Image  Value\n",
       "0  [[0.0, 0.0, 0.0, 0.0, 0.0, 0.0, 0.0, 0.0, 0.0,...      1\n",
       "1  [[0.0, 0.0, 0.0, 0.0, 0.0, 0.0, 0.0, 0.0, 0.0,...      1\n",
       "2  [[0.0, 0.0, 0.0, 0.0, 0.0, 0.0, 0.0, 0.0, 0.0,...      1\n",
       "3  [[0.0, 0.0, 0.0, 0.0, 0.0, 0.0, 0.0, 0.0, 0.0,...      1\n",
       "4  [[0.0, 0.0, 0.0, 0.0, 0.0, 0.0, 0.0, 0.0, 0.0,...      1"
      ]
     },
     "execution_count": 9,
     "metadata": {},
     "output_type": "execute_result"
    }
   ],
   "source": [
    "df.head(20)"
   ]
  },
  {
   "cell_type": "code",
   "execution_count": 8,
   "metadata": {},
   "outputs": [
    {
     "data": {
      "text/plain": [
       "<matplotlib.legend.Legend at 0x16d9bf4c5c8>"
      ]
     },
     "execution_count": 8,
     "metadata": {},
     "output_type": "execute_result"
    },
    {
     "data": {
      "image/png": "[encoded data removed]",
      "text/plain": [
       "<Figure size 504x360 with 1 Axes>"
      ]
     },
     "metadata": {
      "needs_background": "light"
     },
     "output_type": "display_data"
    }
   ],
   "source": [
    "#Number of cases for each type of cancer - Chart\n",
    "#1 = Benign, 2 = Malignant, 0 = Normal\n",
    "\n",
    "fig = plt.figure(figsize=(7,5))\n",
    "df.groupby('Values').Image.count().sort_values().plot.barh(color='aqua', title='Number of cases for each type of cancer\\n')\n",
    "plt.xlabel('Number of cases', fontsize = 10);\n",
    "label_string = '0 = Normal Tumor' + '\\n' + '1 = Benign Tumor' + '\\n' + '2 = Malignant Tumor' \n",
    "plot_patch = mpatches.Patch(color='aqua', label=label_string)\n",
    "plt.legend(handles=[plot_patch])"
   ]
  },
  {
   "cell_type": "code",
   "execution_count": 9,
   "metadata": {},
   "outputs": [
    {
     "name": "stdout",
     "output_type": "stream",
     "text": [
      "Training set --> X: (478, 310, 310) Y: (478,)\n",
      "Test set --> X: (200, 310, 310) Y: (200,)\n",
      "Validation set --> X: (120, 310, 310) Y: (120,)\n"
     ]
    }
   ],
   "source": [
    "#Training set, test set and validation set\n",
    "\n",
    "x_train, x_test, y_train, y_test = train_test_split(np.asarray(images_temp), df['Value'], test_size = 0.25, random_state=1)\n",
    "x_train, x_val, y_train, y_val = train_test_split(x_train, y_train, test_size = 0.2, random_state=1)\n",
    "\n",
    "print('Training set -->', 'X:', x_train.shape, 'Y:', y_train.shape)\n",
    "print('Test set -->', 'X:', x_test.shape, 'Y:', y_test.shape)\n",
    "print('Validation set -->', 'X:', x_val.shape, 'Y:', y_val.shape)"
   ]
  },
  {
   "cell_type": "code",
   "execution_count": 10,
   "metadata": {},
   "outputs": [
    {
     "name": "stdout",
     "output_type": "stream",
     "text": [
      "Training set: (478, 96100)\n",
      "Test set: (200, 96100)\n",
      "Validation set: (120, 96100)\n"
     ]
    }
   ],
   "source": [
    "# Processing the training, testing and validation sets into a useful form for further analysis\n",
    "number_of_train = x_train.shape[0]\n",
    "number_of_test = x_test.shape[0]\n",
    "number_of_val = x_val.shape[0]\n",
    "x_train_flatten = x_train.reshape(number_of_train, x_train.shape[1]*x_train.shape[2])\n",
    "x_test_flatten = x_test.reshape(number_of_test, x_test.shape[1]*x_test.shape[2])\n",
    "x_val_flatten = x_val.reshape(number_of_val, x_val.shape[1]*x_val.shape[2])\n",
    "print(\"Training set:\", x_train_flatten.shape)\n",
    "print(\"Test set:\", x_test_flatten.shape)\n",
    "print(\"Validation set:\", x_val_flatten.shape)"
   ]
  },
  {
   "cell_type": "markdown",
   "metadata": {},
   "source": [
    "## Functions Definition"
   ]
  },
  {
   "cell_type": "code",
   "execution_count": 11,
   "metadata": {},
   "outputs": [],
   "source": [
    "def plot_learning_curves(model, x, y):\n",
    "    warnings.filterwarnings(\"ignore\")\n",
    "    #calcolo learning curves\n",
    "    train_size, train_error, cv_error = learning_curve(model, x, y, scoring='neg_log_loss', cv=5, \n",
    "                                                        train_sizes=[10, 50, 100, 382, 100],\n",
    "                                                        shuffle=True, random_state=90)\n",
    "\n",
    "    train_error_mean = -train_error.mean(axis = 1) #- to reverse the negative values of the cost function\n",
    "    cv_error_mean = -cv_error.mean(axis = 1)\n",
    "\n",
    "    #plot learning curves\n",
    "    print()\n",
    "    plt.title('LEARNING CURVES')\n",
    "    plt.plot(train_size, train_error_mean, label = 'Training error', color='green')\n",
    "    plt.plot(train_size, cv_error_mean, label = 'Validation error', color='blue')\n",
    "    plt.ylabel('Error', fontsize = 15)\n",
    "    plt.xlabel('Training set size', fontsize = 15)\n",
    "    plt.legend() "
   ]
  },
  {
   "cell_type": "code",
   "execution_count": 12,
   "metadata": {},
   "outputs": [],
   "source": [
    "def model_evaluation (model, predictions, x_train, y_train, x_test, y_test, x_val, y_val):\n",
    "    #Accuracy for training set, test set and validation set\n",
    "    print()\n",
    "    training_score = percentage = \"{:.0%}\".format(round(model.score(x_train, y_train), 1))\n",
    "    test_score =  percentage = \"{:.0%}\".format(round(model.score(x_test, y_test), 1))\n",
    "    val_score = percentage = \"{:.0%}\".format(round(model.score(x_val, y_val), 1))\n",
    "    print(\"Training set accuracy: \", training_score)\n",
    "    print(\"Test set accuracy: \", test_score)\n",
    "    print(\"Validation set accuracy: \", val_score)\n",
    "    print('\\n')\n",
    "\n",
    "    #print(\"Training set accuracy: \", round(model.score(x_train, y_train), 1))\n",
    "    #print(\"Test set accuracy: \", round(model.score(x_test, y_test), 1))\n",
    "    #print(\"Validation set accuracy: \", round(model.score(x_val, y_val), 1))\n",
    "\n",
    "    #Confusion Matrix\n",
    "    disp = metrics.plot_confusion_matrix(model, x_val, y_val)\n",
    "    disp.confusion_matrix\n",
    "    print(metrics.classification_report(y_val, predictions))"
   ]
  },
  {
   "cell_type": "code",
   "execution_count": 13,
   "metadata": {},
   "outputs": [],
   "source": [
    "#Application of PCA to solve overfitting\n",
    "def apply_pca(pca, x):\n",
    "    pca.fit(x)\n",
    "    x_pca = pca.transform(x)\n",
    "    x_pca = pd.DataFrame(x_pca)\n",
    "    return x_pca"
   ]
  },
  {
   "cell_type": "code",
   "execution_count": null,
   "metadata": {},
   "outputs": [],
   "source": [
    "pca = PCA(n_components=2, whiten=True)\n",
    "x_train_pca = apply_pca(pca, x_train_flatten)\n",
    "x_test_pca =  apply_pca(pca, x_test_flatten)\n",
    "x_val_pca = apply_pca(pca, x_val_flatten)"
   ]
  },
  {
   "cell_type": "markdown",
   "metadata": {},
   "source": [
    "## Classification\n",
    "\n",
    "- Logistic Regression\n",
    "- SVM\n",
    "- Decision Tree\n",
    "- Neural Network"
   ]
  },
  {
   "cell_type": "code",
   "execution_count": 14,
   "metadata": {},
   "outputs": [
    {
     "name": "stdout",
     "output_type": "stream",
     "text": [
      "\n",
      "\n",
      "Training set accuracy:  60%\n",
      "Test set accuracy:  60%\n",
      "Validation set accuracy:  50%\n",
      "\n",
      "\n",
      "              precision    recall  f1-score   support\n",
      "\n",
      "           0       0.00      0.00      0.00        30\n",
      "           1       0.55      0.83      0.66        65\n",
      "           2       0.48      0.40      0.43        25\n",
      "\n",
      "    accuracy                           0.53       120\n",
      "   macro avg       0.34      0.41      0.36       120\n",
      "weighted avg       0.39      0.53      0.45       120\n",
      "\n"
     ]
    },
    {
     "data": {
      "image/png": "[encoded data removed]",
      "text/plain": [
       "<Figure size 432x288 with 1 Axes>"
      ]
     },
     "metadata": {
      "needs_background": "light"
     },
     "output_type": "display_data"
    },
    {
     "data": {
      "image/png": "[encoded data removed]",
      "text/plain": [
       "<Figure size 432x288 with 2 Axes>"
      ]
     },
     "metadata": {
      "needs_background": "light"
     },
     "output_type": "display_data"
    }
   ],
   "source": [
    "#Logistic Regression (OneVsAll)\n",
    "\n",
    "lg_model = linear_model.LogisticRegression(C=1, multi_class='ovr', solver='liblinear').fit(x_train_pca, y_train)\n",
    "lg_predictions = lg_model.predict(x_val_pca)\n",
    "\n",
    "plot_learning_curves(lg_model, x_train_pca, y_train)\n",
    "model_evaluation (lg_model, lg_predictions, x_train_pca, y_train, x_test_pca, y_test, x_val_pca, y_val)"
   ]
  },
  {
   "cell_type": "code",
   "execution_count": 15,
   "metadata": {},
   "outputs": [
    {
     "name": "stdout",
     "output_type": "stream",
     "text": [
      "\n",
      "Training set accuracy:  60%\n",
      "Test set accuracy:  60%\n",
      "Validation set accuracy:  50%\n",
      "\n",
      "\n",
      "              precision    recall  f1-score   support\n",
      "\n",
      "           0       0.00      0.00      0.00        30\n",
      "           1       0.55      0.85      0.67        65\n",
      "           2       0.50      0.40      0.44        25\n",
      "\n",
      "    accuracy                           0.54       120\n",
      "   macro avg       0.35      0.42      0.37       120\n",
      "weighted avg       0.40      0.54      0.45       120\n",
      "\n"
     ]
    },
    {
     "data": {
      "image/png": "[encoded data removed]",
      "text/plain": [
       "<Figure size 432x288 with 2 Axes>"
      ]
     },
     "metadata": {
      "needs_background": "light"
     },
     "output_type": "display_data"
    }
   ],
   "source": [
    "#SVM\n",
    "\n",
    "svm_model = svm.LinearSVC(C=0.2, dual=False).fit(x_train_pca, y_train)\n",
    "svm_predictions = svm_model.predict(x_val_pca) \n",
    "\n",
    "model_evaluation (svm_model, svm_predictions, x_train_pca, y_train, x_test_pca, y_test, x_val_pca, y_val)"
   ]
  },
  {
   "cell_type": "code",
   "execution_count": 16,
   "metadata": {},
   "outputs": [
    {
     "name": "stdout",
     "output_type": "stream",
     "text": [
      "\n",
      "\n",
      "Training set accuracy:  80%\n",
      "Test set accuracy:  60%\n",
      "Validation set accuracy:  80%\n",
      "\n",
      "\n",
      "              precision    recall  f1-score   support\n",
      "\n",
      "           0       1.00      1.00      1.00        30\n",
      "           1       0.79      0.83      0.81        65\n",
      "           2       0.50      0.44      0.47        25\n",
      "\n",
      "    accuracy                           0.79       120\n",
      "   macro avg       0.76      0.76      0.76       120\n",
      "weighted avg       0.78      0.79      0.79       120\n",
      "\n"
     ]
    },
    {
     "data": {
      "image/png": "[encoded data removed]",
      "text/plain": [
       "<Figure size 432x288 with 1 Axes>"
      ]
     },
     "metadata": {
      "needs_background": "light"
     },
     "output_type": "display_data"
    },
    {
     "data": {
      "image/png": "[encoded data removed]",
      "text/plain": [
       "<Figure size 432x288 with 2 Axes>"
      ]
     },
     "metadata": {
      "needs_background": "light"
     },
     "output_type": "display_data"
    }
   ],
   "source": [
    "#Decision Tree\n",
    "\n",
    "dt_model = DecisionTreeClassifier(max_depth = 3).fit(x_train_pca, y_train) \n",
    "dt_predictions = dt_model.predict(x_val_pca) \n",
    "\n",
    "plot_learning_curves(dt_model, x_train_pca, y_train)\n",
    "model_evaluation (dt_model, dt_predictions, x_train_pca, y_train, x_test_pca, y_test, x_val_pca, y_val)"
   ]
  },
  {
   "cell_type": "code",
   "execution_count": 17,
   "metadata": {},
   "outputs": [
    {
     "name": "stdout",
     "output_type": "stream",
     "text": [
      "\n",
      "\n",
      "Training set accuracy:  80%\n",
      "Test set accuracy:  70%\n",
      "Validation set accuracy:  80%\n",
      "\n",
      "\n",
      "              precision    recall  f1-score   support\n",
      "\n",
      "           0       0.88      1.00      0.94        30\n",
      "           1       0.78      0.83      0.81        65\n",
      "           2       0.59      0.40      0.48        25\n",
      "\n",
      "    accuracy                           0.78       120\n",
      "   macro avg       0.75      0.74      0.74       120\n",
      "weighted avg       0.77      0.78      0.77       120\n",
      "\n"
     ]
    },
    {
     "data": {
      "image/png": "[encoded data removed]",
      "text/plain": [
       "<Figure size 432x288 with 1 Axes>"
      ]
     },
     "metadata": {
      "needs_background": "light"
     },
     "output_type": "display_data"
    },
    {
     "data": {
      "image/png": "[encoded data removed]",
      "text/plain": [
       "<Figure size 432x288 with 2 Axes>"
      ]
     },
     "metadata": {
      "needs_background": "light"
     },
     "output_type": "display_data"
    }
   ],
   "source": [
    "#Neural Networks with OneVsAll\n",
    "\n",
    "nn_model = OneVsRestClassifier(MLPClassifier(alpha=1e-05, hidden_layer_sizes=(5, 5), random_state=1, solver='lbfgs'))\n",
    "nn_model.fit(np.array(x_train_pca), y_train)\n",
    "nn_predictions = nn_model.predict(x_val_pca)\n",
    "\n",
    "plot_learning_curves(nn_model, x_train_pca, y_train)\n",
    "model_evaluation (nn_model, nn_predictions, x_train_pca, y_train, x_test_pca, y_test, x_val_pca, y_val)"
   ]
  },
  {
   "cell_type": "code",
   "execution_count": 18,
   "metadata": {},
   "outputs": [
    {
     "name": "stdout",
     "output_type": "stream",
     "text": [
      "\n",
      "Modello                   Training score    Test Score    Validation Score\n",
      "----------------------  ----------------  ------------  ------------------\n",
      "LogisticRegression                   0.6           0.6                 0.5\n",
      "LinearSVC                            0.6           0.6                 0.5\n",
      "DecisionTreeClassifier               0.8           0.6                 0.8\n",
      "OneVsRestClassifier                  0.8           0.7                 0.8\n"
     ]
    }
   ],
   "source": [
    "#Comparison of the various models tested with a table showing scores for the data of \n",
    "#training, testing and validation\n",
    "\n",
    "from tabulate import tabulate\n",
    "models = [lg_model, svm_model, dt_model, nn_model]\n",
    "results = []\n",
    "for model in models:\n",
    "    model_name = model.__class__.__name__\n",
    "    training_score = round(model.score(x_train_pca, y_train), 1)\n",
    "    test_score = round(model.score(x_test_pca, y_test), 1)\n",
    "    validation_score = round(model.score(x_val_pca, y_val), 1)\n",
    "    results.append((model_name, training_score, test_score, validation_score))\n",
    "\n",
    "print()\n",
    "print(tabulate(results, headers= ['Modello', 'Training score', 'Test Score', 'Validation Score']))"
   ]
  },
  {
   "cell_type": "markdown",
   "metadata": {},
   "source": [
    "# Conclusions\n",
    "\n",
    "Logistic regression and SVM with linear kernel were the first algorithms selected because they are simple and work similarly for problems with a similar number of features and training data as the problem under consideration.\n",
    "Given the obvious problem of overfitting, after using various techniques, we proceeded by testing other models such as Decision Trees and Neural Networks without obtaining better results, however, in fact the results worsen significantly by increasing even slightly the number of hidden layers or trying to work on the regularization parameter. In general, the various models used fail to make satisfactory predictions, all of them suffering from overfitting.\n",
    "Various techniques were applied to improve the models: using the training set division, validation set, test set, increasing the regularization parameter or decreasing the C parameter, and using fewer features. \n",
    "It was precisely the latter that turned out to be the problem, in fact after the application of the PCA technique to reduce the number of features per pixel, Decision Trees and Neural Networks turned out to be the best models with excellent accuracy as can be seen from the table above.\n",
    "The model that allows us to obtain the absolute best results is the one obtained from Neural Networks that with two hidden layers of 5 nodes each allows us to reach an accuracy ranging between 70% and 80%."
   ]
  }
 ],
 "metadata": {
  "kernelspec": {
   "display_name": "Python 3 (ipykernel)",
   "language": "python",
   "name": "python3"
  },
  "language_info": {
   "codemirror_mode": {
    "name": "ipython",
    "version": 3
   },
   "file_extension": ".py",
   "mimetype": "text/x-python",
   "name": "python",
   "nbconvert_exporter": "python",
   "pygments_lexer": "ipython3",
   "version": "3.9.13"
  }
 },
 "nbformat": 4,
 "nbformat_minor": 2
}
